{
 "cells": [
  {
   "cell_type": "code",
   "execution_count": 1,
   "metadata": {},
   "outputs": [],
   "source": [
    "import torch"
   ]
  },
  {
   "cell_type": "code",
   "execution_count": 2,
   "metadata": {},
   "outputs": [],
   "source": [
    "# let the model be simple, y = w * x\n",
    "w = torch.tensor(0.0, requires_grad=True)"
   ]
  },
  {
   "cell_type": "code",
   "execution_count": 3,
   "metadata": {},
   "outputs": [],
   "source": [
    "def forward(x):\n",
    "\treturn w * x\n",
    "\n",
    "# MSE loss\n",
    "def loss(y, y_pred):\n",
    "\treturn ((y - y_pred)**2).mean()"
   ]
  },
  {
   "cell_type": "code",
   "execution_count": 4,
   "metadata": {},
   "outputs": [],
   "source": [
    "X = torch.tensor([1, 2, 3, 4], dtype=torch.float32)\n",
    "Y = torch.tensor([10, 20, 30, 40], dtype=torch.float32)"
   ]
  },
  {
   "cell_type": "code",
   "execution_count": 7,
   "metadata": {},
   "outputs": [
    {
     "name": "stdout",
     "output_type": "stream",
     "text": [
      "Epoch 1: w = 9.935, loss = 0.04367201\n",
      "Epoch 2: w = 9.945, loss = 0.03155343\n",
      "Epoch 3: w = 9.953, loss = 0.02279717\n",
      "Epoch 4: w = 9.960, loss = 0.01647071\n",
      "Epoch 5: w = 9.966, loss = 0.01190005\n",
      "Epoch 6: w = 9.971, loss = 0.00859783\n",
      "Epoch 7: w = 9.976, loss = 0.00621216\n",
      "Epoch 8: w = 9.979, loss = 0.00448814\n",
      "Epoch 9: w = 9.982, loss = 0.00324257\n",
      "Epoch 10: w = 9.985, loss = 0.00234292\n",
      "Epoch 11: w = 9.987, loss = 0.00169275\n",
      "Epoch 12: w = 9.989, loss = 0.00122299\n",
      "Epoch 13: w = 9.991, loss = 0.00088369\n",
      "Epoch 14: w = 9.992, loss = 0.00063849\n",
      "Epoch 15: w = 9.993, loss = 0.00046135\n",
      "Epoch 16: w = 9.994, loss = 0.00033329\n",
      "Epoch 17: w = 9.995, loss = 0.00024084\n",
      "Epoch 18: w = 9.996, loss = 0.00017402\n",
      "Epoch 19: w = 9.997, loss = 0.00012572\n",
      "Epoch 20: w = 9.997, loss = 0.00009083\n"
     ]
    }
   ],
   "source": [
    "lr = 0.01\n",
    "n_epochs = 20\n",
    "\n",
    "for epoch in range(n_epochs):\n",
    "\tl = loss(Y, forward(X))\n",
    "\tl.backward() # calculate gradient\n",
    "\twith torch.no_grad():\n",
    "\t\tw -= lr * w.grad\n",
    "\tw.grad.zero_() # clear gradient\n",
    "\tprint(f\"Epoch {epoch+1}: w = {w:.3f}, loss = {l:.8f}\")\n"
   ]
  },
  {
   "cell_type": "code",
   "execution_count": null,
   "metadata": {},
   "outputs": [],
   "source": [
    "print(forward(1000))"
   ]
  }
 ],
 "metadata": {
  "kernelspec": {
   "display_name": "Python 3.8.2 ('slam')",
   "language": "python",
   "name": "python3"
  },
  "language_info": {
   "codemirror_mode": {
    "name": "ipython",
    "version": 3
   },
   "file_extension": ".py",
   "mimetype": "text/x-python",
   "name": "python",
   "nbconvert_exporter": "python",
   "pygments_lexer": "ipython3",
   "version": "3.8.2"
  },
  "orig_nbformat": 4,
  "vscode": {
   "interpreter": {
    "hash": "752b42aeba0bf5e695cb3ec259ef8365663d88cad8dba72ce2ace375e594e91b"
   }
  }
 },
 "nbformat": 4,
 "nbformat_minor": 2
}
